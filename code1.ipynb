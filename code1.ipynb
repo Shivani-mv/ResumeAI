{
 "cells": [
  {
   "cell_type": "code",
   "execution_count": 3,
   "metadata": {},
   "outputs": [],
   "source": [
    "#for the Apache tika to work set up the enviornment with latest jdk version\n",
    "#!pip install nltk\n",
    "#!pip install glob\n",
    "#!pip install tika==1.23"
   ]
  },
  {
   "cell_type": "code",
   "execution_count": 5,
   "metadata": {},
   "outputs": [],
   "source": [
    "import pandas as pd\n",
    "import os\n",
    "import glob\n",
    "import re\n",
    "import nltk\n",
    "from tika import parser\n",
    "from nltk.tokenize import word_tokenize"
   ]
  },
  {
   "cell_type": "markdown",
   "metadata": {},
   "source": [
    "<h3>Cleaning of the raw resume</h3>\r\n",
    "<ol>Step 1 : Raw data from the resume is parsed using apache parser</ol>\r\n",
    "<ol>Step 2 : Conversion of data to upper and spliting them new line vise</ol>\r\n",
    "<ol>Step 3 : Removing the blank and empty lines from the splited lines and storing them in list</ol>"
   ]
  },
  {
   "cell_type": "code",
   "execution_count": 7,
   "metadata": {},
   "outputs": [],
   "source": [
    "def clean_resume(data):\n",
    "    df = data['content'].upper().splitlines()\n",
    "    df2 = [x.strip() for x in df]\n",
    "    df3 = [x for x in df2 if x != '']\n",
    "    return df3"
   ]
  },
  {
   "cell_type": "code",
   "execution_count": 9,
   "metadata": {},
   "outputs": [],
   "source": [
    "raw_data = parser.from_file(r'C://django//resume//Sample Resume//Anly Abhram.pdf')\n",
    "cdf = clean_resume(raw_data)"
   ]
  },
  {
   "cell_type": "code",
   "execution_count": 11,
   "metadata": {},
   "outputs": [
    {
     "output_type": "stream",
     "name": "stdout",
     "text": [
      "CAREER OBJECTIVE\nTO BE A PART OF A REPUTED ORGANIZATION THAT PROVIDES AN OPPORTUNITY TO APPLY MY KNOWLEDGE\nAND SKILLS TO EXHIBIT THE BEST OF MY ABILITY AND CONTRIBUTE TOWARDS ORGANIZATIONAL\nDEVELOPMENT.\nACADEMIC PROFILE\n2011-2013\nME IN POWER SYSTEMS ENGINEERING AT VALLIAMMAI ENGINEERING COLLEGE\nCHENNAI. CGPA: 8.91, UNIVERSITY 6\nTH\nRANK  (ANNA UNIVERSITY)\n2007-2011\nBE IN ELECTRICAL& ELECTRONICS ENGINEERING FROM DMI COLLEGE OF\nENGINEERING CHENNAI. 81% (ANNA UNIVERSITY)\n2007\nHIGHER SECONDARY FROM KOLA PERUMAL CHETTY VAISHNAV SENIOR. SEC.\nSCHOOL, CHENNAI. 85.8%(CBSE)\n2005\nS.S.L.C. FROM ST THERESA’S BETHANY CONVENT HIGHER SEC SCHOOL, KERALA.\n91% (STATE BOARD)\nTEACHING EXPERIENCE\nPOST\nHELD\nNAME OF THE\nINSTITUTION\nDEPARTMENT UNIVERSITY\nBOARD\nYEARS AND MONTHS\nOF EXPERIENCE\nASSISTANT\nPROFESSOR\nJERUSALEM COLLEGE OF\nENGINEERING,CHENNAI\nELECTRICAL\nAND\nELECTRONICS\nENGINEERING\nANNA\nUNIVERSITY\n4 YEARS AND 4\nMONTHS\n(NOVEMBER 2013-\nMARCH,2018)\nREASON FOR BREAK IN SERVICE:  AFTER MARRIAGE SHIFTED TO BANGALORE FROM CHENNAI\nANLY   ABRAHAM\nFLAT NO 106,\nS.M.TRANQUIL,\nBOREWELL ROAD,\nWHITEFIELD,\nBANGALORE-560066\nEMAIL: ANLYA_E@YAHOO.COM\nMOBNO: 09791163368\n7338460518\nCOMPUTER SKILLS\nSOFT WARES:  MATLAB, PSPICE-ORCAD , ETAP\nTECHNICAL EXPOSURE\n UNDERGONE ONE MONTH IN-PLANT TRAINING AT  SOUTHERN RAILWAYS CHIEF\nELECTRICAL WORKSHOP ENGINEER (CEWE), PERAMBUR.\n VISITED TNEB LOAD DISPATCH  CENTER, CHENNAI\nAREA OF INTEREST\n POWER SYSTEMS\n ELECTRIC CIRCUIT ANALYSIS\nTHEORY  SUBJECTS & LABORATORIES  HANDLED\n CIRCUIT THEORY\n SPECIAL ELECTRICAL MACHINES\n POWER SYSTEM ANALYSIS\n POWER SYSTEM OPERATION AND CONTROL\n POWER SYSTEM TRANSIENTS\n BASICS OF ELECTRICAL ELECTRONICS AND MEASUREMENT\n ELECTRIC CIRCUITS LABORATORY\n POWER SYSTEM SIMULATION LABORATORY\n CONTROL AND INSTRUMENTATION LABORATORY\n ELECTRICAL MACHINES LABORATORY\nME (PSE)\n STEADY STATE ANALYSIS OF GRID CONNECTED WECS  (PHASE I)\n STEADY STATE ANALYSIS OF GRID CONNECTED HYBRID POWER SYSTEMS (PHASE II)\nBE (EEE)\n DUAL- TAP CHOPPING STABILIZER WITH SUB-CYCLIC AC SOFT SWITCHING\nACADEMIC PROJECTS\n PARTICIPATED IN ONE DAY WORKSHOP ON “EMTP-RV FOR POWER SYSTEM APPLICATIONS”\nORGANIZED BY LOYOLA-ICAM COLLEGE OF ENGINEERING & TECHNOLOGY ON MARCH 2017\n ORGANISED WORKSHOP ON “ARDUINO UNO” BY PETRAS SOLUTIONS PVT.LTD AT\nJERUSALEM COLLEGE OF ENGINEERING ON FEBRUARY 2017\n PARTICIPATED IN FDP ON “ CIRCUIT THEORY” CONDUCTED BY JERUSALEM COLLEGE OF\nENGINEERING, DECEMBER 2017\n PARTICIPATED IN FDP ON “ DESIGN OF ELECTRICAL MACHINES ” CONDUCTED BY JERUSALEM\nCOLLEGE OF ENGINEERING, DECEMBER 2016\n PARTICIPATED IN DST SPONSORED FDP ON “RECENT TRENDS IN ADVANCED CONTROL OF\nPOWER ELECTRONICS AND POWER SYSTEMS” AT VIT UNIVERSITY ,CHENNAI ,NOVEMBER\n2016\n PARTICIPATED IN TRAINING PROGRAMME ON “INSTRUCTIONAL DESIGN AND DELIVERY\nSYSTEMS” CONDUCTED BY NATIONAL INSTITUTE OF TECHNICAL TEACHERS TRAINING  AND\nRESEARCH, ON DECEMBER 2016\n PARTICIPATED IN FDP ON “POWER SYSTEM TRANSIENTS” ORGANIZED BY ST. JOSEPH’S\nENGINEERING COLLEGE ,JANUARY 2016\n PARTICIPATED IN FDP ON “CURRENT ISSUES ON POWER QUALITY AND MICRO GRID”\nORGANISED BY ST. JOSEPH’S INSTITUTE OF TECHNOLOGY ON OCTOBER 2015\n PARTICIPATED IN “2 DAY ORIENTATION PROGRAMME ON TEACHING METHODOLOGIES”\nCONDUCTED BY JERUSALEM COLLEGE OF ENGINEERING, JULY 2014\nRESPONSIBILITIES HANDLED\nCO-CURRICULAR ACTIVITIES\n ORGANIZED VARIOUS SEMINARS AND WORKSHOPS FOR STUDENTS IN DEPARTMENT\n ACTIVE MEMBER IN  FACULTY DEVELOPMENT PROGRAMME AND INTERNATIONAL CONFERENCE\nORGANIZING COMMITTEE\n ORGANIZED VARIOUS INDUSTRIAL VISITS FOR STUDENTS\n CLASS IN CHARGE\n DEPARTMENT TIME TABLE IN CHARGE\n DEPARTMENT EXTRA-CURRICULAR AND CO-CURRICULAR ACTIVITIES IN CHARGE\n SUPERVISED VARIOUS STUDENTS PROJECTS\nPUBLICATIONS  AND  CONFERENCE\n  PRESENTED PAPER ON “ ELECTRONIC ASSISTANCE FOR VISUALLY CHALLENGED” IN SECOND\nINTERNATIONAL CONFERENCE ON INNOVATIONS IN ENGINEERING TECHNOLOGY AND SCIENCE\n(ICIETS-2018) AT  K. RAMAKRISHNAN COLLEGE OF ENGINEERING, TRICHY ,ON MARCH 2018\n PRESENTED PAPER ON “ PV FED ZETA CONVERTER BASED PMBLDC MOTOR DRIVEN WATER\nPUMPING SYSTEM” IN INTERNATIONAL CONFERENCE ON EMERGING TRENDS IN SCIENCE,\nENGINEERING & TECHNOLOGY (ICETSET-2017) AT  JERUSALEM COLLEGE OF ENGINEERING,\nCHENNAI ON MARCH 2017\n “STEADY STATE ANALYSIS OF GRID CONNECTED HYBRID RENEWABLE ENERGY CONVERSION”\nPUBLISHED IN INTERNATIONAL JOURNAL OF ENGINEERING SCIENCES & RESEARCH TECHNOLOGY\n(IJESRT), VOL-3, ISSUE-8, AUGUST 2014.\n “IMPACT OF PARAMETER VARIATIONS ON THE STEADY STATE BEHAVIOUR OF GRID CONNECTED\nRENEWABLE ENERGY CONVERSION SYSTEMS” PUBLISHED IN INDIAN JOURNAL OF SCIENCE AND\nTECHNOLOGY, VOL 7,ISSUE 6,PP 48–55, OCTOBER 2014\n “EFFECT OF HIGH WIND PENETRATION, GRID STRENGTHENING AND COMPENSATION ON\nSTEADY STATE OPERATING POINT OF DFIG INTERFACED POWER SYSTEM” PUBLISHED IN\nINTERNATIONAL JOURNAL OF ENGINEERING AND ADVANCED TECHNOLOGY (IJEAT), VOL-2, ISSUE-\n4, APRIL 2013.\n PRESENTED PAPER ON “STEADY STATE ANALYSIS OF GRID CONNECTED DFIG BASED WECS”,\nAT INTERNATIONAL CONFERENCE ON RECENT DEVELOPMENTS IN ELECTRICAL, ELECTRONICS,\nCOMMUNICATION AND INFORMATION TECHNOLOGY-2013(ICRDEECIT’13) ORGANIZED BY\nINTERNATIONAL ACADEMY FOR SCIENCE AND TECHNOLOGY (IAST).\nNAME   ANLY ABRAHAM\nDATE OF BIRTH 11-10- 1989\nFATHER’S NAME                          A’HAM E.L\nSPOUSE’S NAME CHRIS JACOB MATHEW\nRELIGION CHRISTIAN\nLANGUAGES KNOWN ENGLISH, MALAYALAM, HINDI & TAMIL\nHOBBIES DRAWING AND STITCHING\nPERSONAL PROFILE\nDECLARATION:  I HEREBY DECLARE THAT THE ABOVE WRITTEN PARTICULARS ARE TRUE TO THE BEST OF\nMY KNOWLEDGE AND BELIEF\nANLY ABRAHAM\n"
     ]
    }
   ],
   "source": [
    "for line in cdf:\n",
    "    print(line)\n"
   ]
  },
  {
   "cell_type": "code",
   "execution_count": null,
   "metadata": {},
   "outputs": [],
   "source": []
  },
  {
   "cell_type": "code",
   "execution_count": 13,
   "metadata": {},
   "outputs": [],
   "source": [
    "#initializing the diction info for section division, edu dictionary for education division, and skill_set list for skils extraction\n",
    "info = {}\n",
    "edu = {}\n",
    "skill_set = []"
   ]
  },
  {
   "cell_type": "markdown",
   "metadata": {},
   "source": [
    "<h2>Section Division</h2>"
   ]
  },
  {
   "cell_type": "code",
   "execution_count": 15,
   "metadata": {},
   "outputs": [],
   "source": [
    "#For the matching the particular keys of info dictionary\n",
    "def match_line(line):\n",
    "    if re.match(r'(?=.*\\bOBJECTIVE\\b)', line):\n",
    "        return True\n",
    "    if re.match(r'(?=.*\\bSUMMARY\\b)', line):\n",
    "        return True\n",
    "    if re.match(r'(?=.*\\bRESEARCH\\b)', line):\n",
    "        return True\n",
    "    if re.match(r'(?=.*\\bEDUCATION\\b)', line):\n",
    "        return True\n",
    "    if re.match(r'(?=.*\\bINTEREST\\b)', line):\n",
    "        return True\n",
    "    if re.match(r'(?=.*\\bINDUSTRY\\b)', line):\n",
    "        return True\n",
    "    if re.match(r'(?=.*\\bDEVELOPMENT\\b)', line):\n",
    "        return True\n",
    "    if re.match(r'(?=.*\\bSKILL\\b)', line):\n",
    "        return True\n",
    "    if re.match(r'(?=.*\\bPROJECT\\b)', line):\n",
    "        return True\n",
    "    if re.match(r'(?=.*\\bPROFILE\\b)', line):\n",
    "        return True\n",
    "    if re.match(r'(?=.*\\bAWARD\\b)', line):\n",
    "        return True\n",
    "    if re.match(r'(?=.*\\bEXPERIENCE\\b)', line):\n",
    "        return True\n",
    "    if re.match(r'(?=.*\\bPUBLICATION\\b)', line):\n",
    "        return True\n",
    "    if re.match(r'(?=.*\\bPROFESSIONAL\\b)', line):\n",
    "        return True\n",
    "    if re.match(r'(?=.*\\bCONFERENCE\\b)', line):\n",
    "        return True\n",
    "    if re.match(r'(?=.*\\bFEST\\b)', line):\n",
    "        return True\n",
    "    if re.match(r'(?=.*\\bEXAM\\b)', line):\n",
    "        return True\n",
    "    if re.match(r'(?=.*\\bCULTURAL\\b)', line):\n",
    "        return True\n",
    "    if re.match(r'(?=.*\\bEXTRA\\b)', line):\n",
    "        return True\n",
    "    if re.match(r'(?=.*\\bPERSONAL\\b)', line):\n",
    "        return True\n",
    "    if re.match(r'(?=.*\\bREFERENCE\\b)', line):\n",
    "        return True\n",
    "    if re.match(r'(?=.*\\bDECLARATION\\b)', line):\n",
    "        return True"
   ]
  },
  {
   "cell_type": "code",
   "execution_count": 17,
   "metadata": {},
   "outputs": [],
   "source": [
    "#extracting the particular key for the dictionary\r\n",
    "def extract_key(line):\r\n",
    "    if re.match(r'(?=.*\\bOBJECTIVE\\b)', line):\r\n",
    "        return \"OBJECTIVE\"\r\n",
    "    if re.match(r'(?=.*\\bSUMMARY\\b)', line):\r\n",
    "        return \"SUMMARY\"\r\n",
    "    if re.match(r'(?=.*\\bRESEARCH\\b)', line):\r\n",
    "        return \"RESEARCH\"\r\n",
    "    if re.match(r'(?=.*\\bEDUCATION\\b)', line):\r\n",
    "        return \"EDUCATION\"\r\n",
    "    if re.match(r'(?=.*\\bINTEREST\\b)', line):\r\n",
    "        return \"INTEREST\"\r\n",
    "    if re.match(r'(?=.*\\bINDUSTRY\\b)', line):\r\n",
    "        return \"INDUSTRY\"\r\n",
    "    if re.match(r'(?=.*\\bDEVELOPMENT\\b)', line):\r\n",
    "        return \"DEVELOPMENT\"\r\n",
    "    if re.match(r'(?=.*\\bSKILL\\b)', line):\r\n",
    "        return \"SKILL\"\r\n",
    "    if re.match(r'(?=.*\\bPROJECT\\b)', line):\r\n",
    "        return \"PROJECT\"\r\n",
    "    if re.match(r'(?=.*\\bPROFILE\\b)', line):\r\n",
    "        return \"PROFILE\"\r\n",
    "    if re.match(r'(?=.*\\bAWARD\\b)', line):\r\n",
    "        return \"AWARD\"\r\n",
    "    if re.match(r'(?=.*\\bEXPERIENCE\\b)', line):\r\n",
    "        return \"EXPERIENCE\"\r\n",
    "    if re.match(r'(?=.*\\bPUBLICATION\\b)', line):\r\n",
    "        return \"PUBLICATION\"\r\n",
    "    if re.match(r'(?=.*\\bPROFESSIONAL\\b)', line):\r\n",
    "        return \"PROFESSIONAL\"\r\n",
    "    if re.match(r'(?=.*\\bCONFERENCE\\b)', line):\r\n",
    "        return \"CONFERENCE\"\r\n",
    "    if re.match(r'(?=.*\\bFEST\\b)', line):\r\n",
    "        return \"FEST\"\r\n",
    "    if re.match(r'(?=.*\\bEXAM\\b)', line):\r\n",
    "        return \"EXAM\"\r\n",
    "    if re.match(r'(?=.*\\bCULTURAL\\b)', line):\r\n",
    "        return \"CULTURAL\"\r\n",
    "    if re.match(r'(?=.*\\bEXTRA\\b)', line):\r\n",
    "        return \"EXTRA\"\r\n",
    "    if re.match(r'(?=.*\\bPERSONAL\\b)', line):\r\n",
    "        return \"PERSONAL\"\r\n",
    "    if re.match(r'(?=.*\\bREFERENCE\\b)', line):\r\n",
    "        return \"REFERENCE\"\r\n",
    "    if re.match(r'(?=.*\\bDECLARATION\\b)', line):\r\n",
    "        return \"DECLARATION\""
   ]
  },
  {
   "cell_type": "code",
   "execution_count": 19,
   "metadata": {},
   "outputs": [],
   "source": [
    "#using the current line to produce key and con-current lines to produce the section & store in the value of the key \n",
    "def formdict(key, line_num):\n",
    "    key = extract_key(key)\n",
    "    s = []\n",
    "    while line_num < len(cdf):\n",
    "        if match_line(cdf[line_num]):\n",
    "            info[key] = s; \n",
    "            break\n",
    "        else :\n",
    "            s.append(cdf[line_num])\n",
    "            line_num = line_num + 1\n",
    "    return line_num"
   ]
  },
  {
   "cell_type": "code",
   "execution_count": 21,
   "metadata": {},
   "outputs": [],
   "source": [
    "#call for the dictionary with particular line to form the key\r\n",
    "for i in range(0, len(cdf)):\r\n",
    "    if match_line(cdf[i]):\r\n",
    "        i = formdict(cdf[i], i+1)"
   ]
  },
  {
   "cell_type": "markdown",
   "metadata": {},
   "source": [
    "<h2>Extracting the Educational Details</h2>"
   ]
  },
  {
   "cell_type": "code",
   "execution_count": 23,
   "metadata": {},
   "outputs": [],
   "source": [
    "# Education Degrees\n",
    "edu_key = [\n",
    "            'BE','B.E.', 'B.E', 'BS', 'B.SC', \n",
    "            'ME', 'M.E', 'M.E.', 'MS', 'M.SC', \n",
    "            'B.COM', 'B. TECH', 'M.TECH', 'MTECH',\n",
    "            'PH.D', 'M.COM', 'BA', 'ICSE', 'X', 'XII', \n",
    "            'SSC', 'HSC', 'CBSE', 'SECONDARY'\n",
    "        ]"
   ]
  },
  {
   "cell_type": "code",
   "execution_count": 25,
   "metadata": {},
   "outputs": [],
   "source": [
    "#extracting the nearest floating number but if any other key is present it return none\r\n",
    "def extract_marks(i, l2):\r\n",
    "    for ele in range(i, len(l2)):\r\n",
    "        if re.match(rf'\\d+\\.\\d+', l2[ele]):\r\n",
    "            return l2[ele]\r\n",
    "        if l2[ele] in edu_key:\r\n",
    "            return None"
   ]
  },
  {
   "cell_type": "code",
   "execution_count": 27,
   "metadata": {},
   "outputs": [],
   "source": [
    "#Calling the eductaion text\r\n",
    "#Tokenizing the text in words tokens and cleaning of special characters\r\n",
    "#Matching the educational keys from the edu_key list\r\n",
    "def extract_education(education):\r\n",
    "    edu = {}\r\n",
    "    l1 = word_tokenize(' '.join(education))\r\n",
    "    l2 = [x for x in l1 if x != ',' if x!= '%' if x != '(' if x != ')' if x != '&' if x != '.']\r\n",
    "    for i in range(0, len(l2)):\r\n",
    "        for j in range(0, len(edu_key)):\r\n",
    "            if re.match(rf'(?=.*\\b{edu_key[j]}\\b)', l2[i]):\r\n",
    "                temp = edu_key[j]\r\n",
    "                marks = extract_marks(i+1, l2)\r\n",
    "                edu[temp] = marks\r\n",
    "    return edu"
   ]
  },
  {
   "cell_type": "code",
   "execution_count": 29,
   "metadata": {},
   "outputs": [
    {
     "output_type": "execute_result",
     "data": {
      "text/plain": [
       "['ASSISTANT',\n",
       " 'PROFESSOR',\n",
       " 'JERUSALEM COLLEGE OF',\n",
       " 'ENGINEERING,CHENNAI',\n",
       " 'ELECTRICAL',\n",
       " 'AND',\n",
       " 'ELECTRONICS',\n",
       " 'ENGINEERING',\n",
       " 'ANNA',\n",
       " 'UNIVERSITY',\n",
       " '4 YEARS AND 4',\n",
       " 'MONTHS',\n",
       " '(NOVEMBER 2013-',\n",
       " 'MARCH,2018)',\n",
       " 'REASON FOR BREAK IN SERVICE:  AFTER MARRIAGE SHIFTED TO BANGALORE FROM CHENNAI',\n",
       " 'ANLY   ABRAHAM',\n",
       " 'FLAT NO 106,',\n",
       " 'S.M.TRANQUIL,',\n",
       " 'BOREWELL ROAD,',\n",
       " 'WHITEFIELD,',\n",
       " 'BANGALORE-560066',\n",
       " 'EMAIL: ANLYA_E@YAHOO.COM',\n",
       " 'MOBNO: 09791163368',\n",
       " '7338460518',\n",
       " 'COMPUTER SKILLS',\n",
       " 'SOFT WARES:  MATLAB, PSPICE-ORCAD , ETAP',\n",
       " 'TECHNICAL EXPOSURE',\n",
       " '\\uf0d8 UNDERGONE ONE MONTH IN-PLANT TRAINING AT  SOUTHERN RAILWAYS CHIEF',\n",
       " 'ELECTRICAL WORKSHOP ENGINEER (CEWE), PERAMBUR.',\n",
       " '\\uf0d8 VISITED TNEB LOAD DISPATCH  CENTER, CHENNAI']"
      ]
     },
     "metadata": {},
     "execution_count": 29
    }
   ],
   "source": [
    "info.keys()\n",
    "info['EXPERIENCE']"
   ]
  },
  {
   "cell_type": "code",
   "execution_count": 31,
   "metadata": {},
   "outputs": [
    {
     "output_type": "stream",
     "name": "stdout",
     "text": [
      "{}\n"
     ]
    }
   ],
   "source": [
    "edu = extract_education(info['EXPERIENCE'])\n",
    "print(edu)"
   ]
  },
  {
   "cell_type": "markdown",
   "metadata": {},
   "source": [
    "<h2>Extracting the Skills</h2>"
   ]
  },
  {
   "cell_type": "code",
   "execution_count": 33,
   "metadata": {},
   "outputs": [],
   "source": [
    "#getting the pre-defined dataset of skills\n",
    "#converting them all to upper case for easier processing\n",
    "skill_df = pd.read_csv(r\"C://django//resume//skillset.csv\")\n",
    "skill_df = skill_df.applymap(lambda s:s.upper() if type(s) == str else s)"
   ]
  },
  {
   "cell_type": "code",
   "execution_count": null,
   "metadata": {},
   "outputs": [],
   "source": [
    "#converting all the text to token and cleaning the special characters\n",
    "#checking if the token is present in the dataset then appending\n",
    "def extract_skill(txt):\n",
    "    l1 = word_tokenize(' '.join(txt))\n",
    "    l2 = [x for x in l1 if x != ',' if x!= '%' if x != '(' if x != ')' if x != '&' if x != '.' if x!= ':']\n",
    "    skill_set = []\n",
    "    for i in range(0, len(l2)):\n",
    "        if l2[i] in skill_df.values:\n",
    "            #print(l2[i])\n",
    "            skill_set.append(l2[i])\n",
    "\n",
    "    return skill_set"
   ]
  },
  {
   "cell_type": "code",
   "execution_count": 34,
   "metadata": {},
   "outputs": [
    {
     "output_type": "error",
     "ename": "KeyError",
     "evalue": "'SKILL'",
     "traceback": [
      "\u001b[1;31m---------------------------------------------------------------------------\u001b[0m",
      "\u001b[1;31mKeyError\u001b[0m                                  Traceback (most recent call last)",
      "\u001b[1;32m<ipython-input-34-58f739d23c75>\u001b[0m in \u001b[0;36m<module>\u001b[1;34m\u001b[0m\n\u001b[1;32m----> 1\u001b[1;33m \u001b[0mskill_set\u001b[0m \u001b[1;33m=\u001b[0m \u001b[0mextract_skill\u001b[0m\u001b[1;33m(\u001b[0m\u001b[0minfo\u001b[0m\u001b[1;33m[\u001b[0m\u001b[1;34m'SKILL'\u001b[0m\u001b[1;33m]\u001b[0m\u001b[1;33m)\u001b[0m\u001b[1;33m\u001b[0m\u001b[1;33m\u001b[0m\u001b[0m\n\u001b[0m\u001b[0;32m      2\u001b[0m \u001b[0mprint\u001b[0m\u001b[1;33m(\u001b[0m\u001b[0mskill_set\u001b[0m\u001b[1;33m)\u001b[0m\u001b[1;33m\u001b[0m\u001b[1;33m\u001b[0m\u001b[0m\n",
      "\u001b[1;31mKeyError\u001b[0m: 'SKILL'"
     ]
    }
   ],
   "source": [
    "skill_set = extract_skill(info['SKILL'])\n",
    "print(skill_set)"
   ]
  },
  {
   "cell_type": "code",
   "execution_count": 36,
   "metadata": {},
   "outputs": [
    {
     "output_type": "execute_result",
     "data": {
      "text/plain": [
       "['(IJESRT), VOL-3, ISSUE-8, AUGUST 2014.',\n",
       " '\\uf0d8 “IMPACT OF PARAMETER VARIATIONS ON THE STEADY STATE BEHAVIOUR OF GRID CONNECTED',\n",
       " 'RENEWABLE ENERGY CONVERSION SYSTEMS” PUBLISHED IN INDIAN JOURNAL OF SCIENCE AND',\n",
       " 'TECHNOLOGY, VOL 7,ISSUE 6,PP 48–55, OCTOBER 2014',\n",
       " '\\uf0d8 “EFFECT OF HIGH WIND PENETRATION, GRID STRENGTHENING AND COMPENSATION ON',\n",
       " 'STEADY STATE OPERATING POINT OF DFIG INTERFACED POWER SYSTEM” PUBLISHED IN',\n",
       " 'INTERNATIONAL JOURNAL OF ENGINEERING AND ADVANCED TECHNOLOGY (IJEAT), VOL-2, ISSUE-',\n",
       " '4, APRIL 2013.',\n",
       " '\\uf0d8 PRESENTED PAPER ON “STEADY STATE ANALYSIS OF GRID CONNECTED DFIG BASED WECS”,']"
      ]
     },
     "metadata": {},
     "execution_count": 36
    }
   ],
   "source": [
    "info['RESEARCH']"
   ]
  },
  {
   "cell_type": "code",
   "execution_count": 37,
   "metadata": {},
   "outputs": [
    {
     "output_type": "execute_result",
     "data": {
      "text/plain": [
       "dict_keys(['OBJECTIVE', 'DEVELOPMENT', 'PROFILE', 'EXPERIENCE', 'INTEREST', 'RESEARCH', 'EXTRA', 'CONFERENCE'])"
      ]
     },
     "metadata": {},
     "execution_count": 37
    }
   ],
   "source": [
    "info.keys()"
   ]
  },
  {
   "cell_type": "code",
   "execution_count": 38,
   "metadata": {},
   "outputs": [
    {
     "output_type": "error",
     "ename": "KeyError",
     "evalue": "'PROFESSIONAL'",
     "traceback": [
      "\u001b[1;31m---------------------------------------------------------------------------\u001b[0m",
      "\u001b[1;31mKeyError\u001b[0m                                  Traceback (most recent call last)",
      "\u001b[1;32m<ipython-input-38-f7657f1b6e78>\u001b[0m in \u001b[0;36m<module>\u001b[1;34m\u001b[0m\n\u001b[1;32m----> 1\u001b[1;33m \u001b[0minfo\u001b[0m\u001b[1;33m[\u001b[0m\u001b[1;34m'PROFESSIONAL'\u001b[0m\u001b[1;33m]\u001b[0m\u001b[1;33m\u001b[0m\u001b[1;33m\u001b[0m\u001b[0m\n\u001b[0m",
      "\u001b[1;31mKeyError\u001b[0m: 'PROFESSIONAL'"
     ]
    }
   ],
   "source": [
    "info['PROFESSIONAL']"
   ]
  },
  {
   "cell_type": "code",
   "execution_count": 36,
   "metadata": {},
   "outputs": [
    {
     "output_type": "execute_result",
     "data": {
      "text/plain": [
       "['\\uf0b7 PH.D.(TECH.) IN RADIO-PHYSICS & ELECTRONICS, UNIVERSITY OF CALCUTTA (SUBMITTED)',\n",
       " '\\uf0b7 M.TECH IN RADIO-PHYSICS & ELECTRONICS, UNIVERSITY OF CALCUTTA IN 2006(78.56%)',\n",
       " '\\uf0b7 B. TECH IN RADIO-PHYSICS & ELECTRONICS, UNIVERSITY OF CALCUTTA IN 2001(76.70%)',\n",
       " '\\uf0b7 B.SC IN PHYSICS (HONS.) FROM RAMAKRISHNA MISSION RESIDENTIAL COLLEGE,',\n",
       " 'NARENDRAPUR, UNIVERSITY OF CALCUTTA IN 1998(68.00%)',\n",
       " '\\uf0b7 HIGHER SECONDARY(WBCHSE) FROM S.T.P.S HIGH SCHOOL  ,PURULIA, WB, INDIA',\n",
       " 'IN 1995(73.90%).',\n",
       " '\\uf0b7 MADHYAMIK (W.B.B.S.E) IN 1993 FROM S.T.P.S HIGH SCHOOL, PURULIA, WB,,',\n",
       " 'INDIA(71.33%).']"
      ]
     },
     "metadata": {},
     "execution_count": 36
    }
   ],
   "source": [
    "info['EDUCATION']"
   ]
  },
  {
   "cell_type": "code",
   "execution_count": 38,
   "metadata": {},
   "outputs": [
    {
     "output_type": "execute_result",
     "data": {
      "text/plain": [
       "'78.56'"
      ]
     },
     "metadata": {},
     "execution_count": 38
    }
   ],
   "source": [
    "edu['M.TECH']"
   ]
  },
  {
   "cell_type": "code",
   "execution_count": 54,
   "metadata": {},
   "outputs": [
    {
     "output_type": "execute_result",
     "data": {
      "text/plain": [
       "dict_keys(['OBJECTIVE', 'DEVELOPMENT', 'PROFILE', 'EXPERIENCE', 'INTEREST', 'RESEARCH', 'EXTRA', 'CONFERENCE'])"
      ]
     },
     "metadata": {},
     "execution_count": 54
    }
   ],
   "source": [
    "info.keys()"
   ]
  },
  {
   "cell_type": "code",
   "execution_count": 59,
   "metadata": {},
   "outputs": [
    {
     "output_type": "error",
     "ename": "NameError",
     "evalue": "name 'Document' is not defined",
     "traceback": [
      "\u001b[1;31m---------------------------------------------------------------------------\u001b[0m",
      "\u001b[1;31mNameError\u001b[0m                                 Traceback (most recent call last)",
      "\u001b[1;32m<ipython-input-59-6e7a109fa6bc>\u001b[0m in \u001b[0;36m<module>\u001b[1;34m\u001b[0m\n\u001b[1;32m----> 1\u001b[1;33m \u001b[0maccount_obj\u001b[0m \u001b[1;33m=\u001b[0m \u001b[0mDocument\u001b[0m\u001b[1;33m.\u001b[0m\u001b[0mobjects\u001b[0m\u001b[1;33m.\u001b[0m\u001b[0mall\u001b[0m\u001b[1;33m(\u001b[0m\u001b[1;33m)\u001b[0m\u001b[1;33m\u001b[0m\u001b[1;33m\u001b[0m\u001b[0m\n\u001b[0m\u001b[0;32m      2\u001b[0m \u001b[0mprint\u001b[0m\u001b[1;33m(\u001b[0m\u001b[0maccount_obj\u001b[0m\u001b[1;33m)\u001b[0m\u001b[1;33m\u001b[0m\u001b[1;33m\u001b[0m\u001b[0m\n",
      "\u001b[1;31mNameError\u001b[0m: name 'Document' is not defined"
     ]
    }
   ],
   "source": [
    "\r\n"
   ]
  },
  {
   "cell_type": "code",
   "execution_count": 62,
   "metadata": {},
   "outputs": [
    {
     "output_type": "error",
     "ename": "OperationalError",
     "evalue": "no such table: Document",
     "traceback": [
      "\u001b[1;31m---------------------------------------------------------------------------\u001b[0m",
      "\u001b[1;31mOperationalError\u001b[0m                          Traceback (most recent call last)",
      "\u001b[1;32m<ipython-input-62-7953901e1afb>\u001b[0m in \u001b[0;36m<module>\u001b[1;34m\u001b[0m\n\u001b[0;32m      4\u001b[0m \u001b[1;33m\u001b[0m\u001b[0m\n\u001b[0;32m      5\u001b[0m \u001b[1;31m#Retrieving data\u001b[0m\u001b[1;33m\u001b[0m\u001b[1;33m\u001b[0m\u001b[1;33m\u001b[0m\u001b[0m\n\u001b[1;32m----> 6\u001b[1;33m \u001b[0mcursor\u001b[0m\u001b[1;33m.\u001b[0m\u001b[0mexecute\u001b[0m\u001b[1;33m(\u001b[0m\u001b[1;34m'''SELECT * from Document'''\u001b[0m\u001b[1;33m)\u001b[0m\u001b[1;33m\u001b[0m\u001b[1;33m\u001b[0m\u001b[0m\n\u001b[0m\u001b[0;32m      7\u001b[0m \u001b[1;33m\u001b[0m\u001b[0m\n\u001b[0;32m      8\u001b[0m \u001b[1;31m#Fetching 1st row from the table\u001b[0m\u001b[1;33m\u001b[0m\u001b[1;33m\u001b[0m\u001b[1;33m\u001b[0m\u001b[0m\n",
      "\u001b[1;31mOperationalError\u001b[0m: no such table: Document"
     ]
    }
   ],
   "source": [
    "import sqlite3\n",
    "conn = sqlite3.connect('resume_app.db')\n",
    "cursor = conn.cursor()\n",
    "\n",
    "#Retrieving data\n",
    "cursor.execute('''SELECT * from Document''')\n",
    "\n",
    "#Fetching 1st row from the table\n",
    "result = cursor.fetchone();\n",
    "print(result)\n",
    "\n",
    "#Fetching 1st row from the table\n",
    "result = cursor.fetchall();\n",
    "print(result)\n",
    "\n",
    "#Commit your changes in the database\n",
    "conn.commit()\n",
    "\n",
    "#Closing the connection\n",
    "conn.close()\n"
   ]
  },
  {
   "cell_type": "code",
   "execution_count": null,
   "metadata": {},
   "outputs": [],
   "source": []
  }
 ],
 "metadata": {
  "interpreter": {
   "hash": "3b7af88c01f1744495abc0a95508219d7b602c6ee6c55b7e023662dffb523094"
  },
  "kernelspec": {
   "name": "python3",
   "display_name": "Python 3.8.5 64-bit ('base': conda)"
  },
  "language_info": {
   "codemirror_mode": {
    "name": "ipython",
    "version": 3
   },
   "file_extension": ".py",
   "mimetype": "text/x-python",
   "name": "python",
   "nbconvert_exporter": "python",
   "pygments_lexer": "ipython3",
   "version": "3.8.5"
  },
  "metadata": {
   "interpreter": {
    "hash": "ac59ebe37160ed0dfa835113d9b8498d9f09ceb179beaac4002f036b9467c963"
   }
  },
  "orig_nbformat": 2
 },
 "nbformat": 4,
 "nbformat_minor": 2
}